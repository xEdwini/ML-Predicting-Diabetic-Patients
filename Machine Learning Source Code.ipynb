{
 "cells": [
  {
   "cell_type": "code",
   "execution_count": null,
   "metadata": {},
   "outputs": [],
   "source": [
    "#Import all the Libraries\n",
    "import pandas as pd\n",
    "import numpy as np\n",
    "from sklearn.model_selection import train_test_split,cross_val_score\n",
    "from sklearn.preprocessing import StandardScaler\n",
    "from sklearn.pipeline import make_pipeline\n",
    "from sklearn.impute import SimpleImputer\n",
    "import matplotlib.pyplot as plt\n",
    "from sklearn.linear_model import LogisticRegression\n",
    "from sklearn.ensemble import RandomForestClassifier\n",
    "from sklearn.svm import LinearSVC\n",
    "from sklearn.metrics import confusion_matrix\n",
    "from sklearn.metrics import classification_report\n"
   ]
  },
  {
   "cell_type": "code",
   "execution_count": 3,
   "metadata": {},
   "outputs": [],
   "source": [
    "#Loading the dataset\n",
    "df = pd.read_csv('diabetic_data.csv')\n",
    "\n",
    "#------------------- MAKING PREPROCESSED SPLIT INTO TRAINING AND TESTING SETS -------------------\n",
    "\n",
    "#Replace all ? with NaN to handle better\n",
    "df.replace('?', np.nan, inplace=True)\n",
    "\n",
    "#remove useless columns\n",
    "df.drop(['encounter_id', 'patient_nbr', 'payer_code', 'medical_specialty'], axis=1, inplace=True)\n",
    "\n",
    "#categorical and numerical columns\n",
    "catCols= df.select_dtypes(include=['object']).columns\n",
    "numCols = df.select_dtypes(include=['int64', 'float64']).columns\n",
    "\n",
    "#Handle missing values using SimpleImputer, make imputers\n",
    "catImputer = SimpleImputer(strategy='most_frequent')\n",
    "numImputer = SimpleImputer(strategy='median')\n",
    "\n",
    "#Apply the imputers\n",
    "df[catCols] = catImputer.fit_transform(df[catCols])\n",
    "df[numCols] = numImputer.fit_transform(df[numCols])"
   ]
  },
  {
   "cell_type": "code",
   "execution_count": 4,
   "metadata": {},
   "outputs": [
    {
     "data": {
      "image/png": "[encoded data removed]",
      "text/plain": [
       "<Figure size 640x480 with 1 Axes>"
      ]
     },
     "metadata": {},
     "output_type": "display_data"
    },
    {
     "name": "stdout",
     "output_type": "stream",
     "text": [
      "race\n",
      "Caucasian          77.011969\n",
      "AfricanAmerican    18.876639\n",
      "Hispanic            2.001651\n",
      "Other               1.479866\n",
      "Asian               0.629876\n",
      "Name: proportion, dtype: float64\n",
      "Training dataset ratio: (76324, 2338), Testing dataset ratio: (25442, 2338)\n"
     ]
    }
   ],
   "source": [
    "import seaborn as sns\n",
    "#--------Make a graph showing the readmitted races---------\n",
    "sns.countplot(x = df.race, data = df)\n",
    "plt.title(\"Readmitted based on Race\")\n",
    "plt.show()\n",
    "#Show the % for each column\n",
    "print(df.race.value_counts(normalize=True)*100)\n",
    "\n",
    "\n",
    "#Make every No and Yes in readmitted 0 and 1\n",
    "df['readmitted'] = df['readmitted'].map({'NO':0, '>30':1, '<30':1}).fillna(0)\n",
    "\n",
    "#Variables into binary columns for each category\n",
    "df = pd.get_dummies(df, drop_first=True)\n",
    "\n",
    "#Split into features X(size) and target y(target)\n",
    "X = df.drop('readmitted', axis=1)\n",
    "y = df['readmitted']\n",
    "\n",
    "#Train-test split 75% training, 25% testing\n",
    "X_train, X_test, y_train, y_test = train_test_split(X, y, test_size=0.25, random_state =66)\n",
    "\n",
    "#Print the training and testing sets % for testing and sampling\n",
    "print(f\"Training dataset ratio: {X_train.shape}, Testing dataset ratio: {X_test.shape}\")"
   ]
  },
  {
   "cell_type": "code",
   "execution_count": 17,
   "metadata": {},
   "outputs": [
    {
     "name": "stdout",
     "output_type": "stream",
     "text": [
      "K-Fold Validation Score:  [0.6113786  0.61602712 0.60516877 0.62595195 0.62113693]\n"
     ]
    }
   ],
   "source": [
    "#------------------FIRST LOGISTIC REGRESSION------------------\n",
    "#Initialise logistic regression model\n",
    "logisticModel = make_pipeline(StandardScaler(), LogisticRegression(max_iter=2000, random_state =66))\n",
    "\n",
    "#K-Fold Validation for Logistic Regression\n",
    "logKscore = cross_val_score(logisticModel, X, y, cv=5)\n",
    "print(\"K-Fold Validation Score: \", logKscore)\n",
    "\n",
    "\n",
    "#train model\n",
    "logisticModel.fit(X_train,y_train)\n",
    "\n",
    "#Predict using test values\n",
    "yPredict = logisticModel.predict(X_test)"
   ]
  },
  {
   "cell_type": "code",
   "execution_count": 16,
   "metadata": {},
   "outputs": [
    {
     "name": "stdout",
     "output_type": "stream",
     "text": [
      "------- Logisitic Regression -------\n",
      " \n",
      "Accuracy for Training score is:  0.647\n",
      "Accuracy for Testing score is:  0.625\n"
     ]
    }
   ],
   "source": [
    "\n",
    "print(\"------- Logisitic Regression -------\")\n",
    "#Measure overall accuracy for testing and training\n",
    "score = logisticModel.score(X_train,y_train)\n",
    "#Measure overall accuracy for testing and training\n",
    "score = logisticModel.score(X_train,y_train)\n",
    "print(\" \")\n",
    "print(\"Accuracy for Training score is: \", round(score, 3))\n",
    "Tscore = logisticModel.score(X_test,y_test)\n",
    "print(\"Accuracy for Testing score is: \", round(Tscore, 3))\n"
   ]
  },
  {
   "cell_type": "code",
   "execution_count": 7,
   "metadata": {},
   "outputs": [
    {
     "name": "stdout",
     "output_type": "stream",
     "text": [
      " \n",
      "Confusion Matrix for Logistic Regression is below\n",
      "[[10029  3755]\n",
      " [ 5782  5876]]\n"
     ]
    }
   ],
   "source": [
    "#Prediction vs Actual Values\n",
    "confusionMatrix = confusion_matrix(y_test,yPredict)\n",
    "print(\" \")\n",
    "print(\"Confusion Matrix for Logistic Regression is below\")\n",
    "print(confusionMatrix)\n"
   ]
  },
  {
   "cell_type": "code",
   "execution_count": 8,
   "metadata": {},
   "outputs": [
    {
     "name": "stdout",
     "output_type": "stream",
     "text": [
      " \n",
      "Classification Report for Logistic Regression is below\n",
      "              precision    recall  f1-score   support\n",
      "\n",
      "           0       0.63      0.73      0.68     13784\n",
      "           1       0.61      0.50      0.55     11658\n",
      "\n",
      "    accuracy                           0.63     25442\n",
      "   macro avg       0.62      0.62      0.61     25442\n",
      "weighted avg       0.62      0.63      0.62     25442\n",
      "\n"
     ]
    }
   ],
   "source": [
    "#Classification Report\n",
    "classification = classification_report(y_test, yPredict)\n",
    "print(\" \")\n",
    "print(\"Classification Report for Logistic Regression is below\")\n",
    "print(classification)"
   ]
  },
  {
   "cell_type": "code",
   "execution_count": 9,
   "metadata": {},
   "outputs": [
    {
     "name": "stdout",
     "output_type": "stream",
     "text": [
      "------- Random Forest Classifier -------\n",
      "Accuracy for Training score is:  1.0\n",
      "Accuracy for Testing score is:  0.642\n"
     ]
    }
   ],
   "source": [
    "#------------------SECOND RANDOM FOREST CLASSIFIER------------------\n",
    "print(\"------- Random Forest Classifier -------\")\n",
    "\n",
    "rfModel = RandomForestClassifier(random_state =66)\n",
    "rfModel.fit(X_train, y_train)\n",
    "rfYpredict = rfModel.predict(X_test)\n",
    "\n",
    "#Finding accuracies for testing and training\n",
    "rfscore = rfModel.score(X_train, y_train)\n",
    "print(\"Accuracy for Training score is: \", round(rfscore, 3))\n",
    "rfTscore = rfModel.score(X_test, y_test)\n",
    "print(\"Accuracy for Testing score is: \", round(rfTscore, 3))"
   ]
  },
  {
   "cell_type": "code",
   "execution_count": 10,
   "metadata": {},
   "outputs": [
    {
     "name": "stdout",
     "output_type": "stream",
     "text": [
      "Confusion Matrix for Random Forest is \n",
      "[[10297  3487]\n",
      " [ 5612  6046]]\n"
     ]
    }
   ],
   "source": [
    "#Prediction vs Actual Values\n",
    "rfconfusionMatrix = confusion_matrix(y_test,rfYpredict)\n",
    "print(\"Confusion Matrix for Random Forest is \")\n",
    "print(rfconfusionMatrix)"
   ]
  },
  {
   "cell_type": "code",
   "execution_count": 11,
   "metadata": {},
   "outputs": [
    {
     "name": "stdout",
     "output_type": "stream",
     "text": [
      "Classification Report for Random Forest is below\n",
      "              precision    recall  f1-score   support\n",
      "\n",
      "           0       0.65      0.75      0.69     13784\n",
      "           1       0.63      0.52      0.57     11658\n",
      "\n",
      "    accuracy                           0.64     25442\n",
      "   macro avg       0.64      0.63      0.63     25442\n",
      "weighted avg       0.64      0.64      0.64     25442\n",
      "\n"
     ]
    }
   ],
   "source": [
    "#Classification Report\n",
    "rfclassification = classification_report(y_test, rfYpredict)\n",
    "print(\"Classification Report for Random Forest is below\")\n",
    "print(rfclassification)"
   ]
  },
  {
   "cell_type": "code",
   "execution_count": 12,
   "metadata": {},
   "outputs": [
    {
     "name": "stdout",
     "output_type": "stream",
     "text": [
      "------- Linear Support Vector Machines -------\n",
      "K-Fold validation score for SVM is:  [0.61132947 0.61661671 0.6052179  0.6245271  0.62098953]\n",
      "Accuracy for Training score is:  0.646\n",
      "Accuracy for Testing score is:  0.626\n"
     ]
    }
   ],
   "source": [
    "#------------------THIRD LINEAR SUPPORT VECTOR MACHINES------------------\n",
    "print(\"------- Linear Support Vector Machines -------\")\n",
    "\n",
    "#initialised Linear Support Vector Machines \n",
    "sModel = LinearSVC(max_iter=2000, dual=False, random_state =66)\n",
    "#K-fold validation for SVM\n",
    "svmKscore = cross_val_score(sModel, X, y, cv=5)\n",
    "print(\"K-Fold validation score for SVM is: \", svmKscore)\n",
    "\n",
    "sModel.fit(X_train, y_train)\n",
    "sYpredict = sModel.predict(X_test)\n",
    "\n",
    "#Finding accuracies for testing and training\n",
    "sscore = sModel.score(X_train, y_train)\n",
    "print(\"Accuracy for Training score is: \", round(sscore, 3))\n",
    "sTscore = sModel.score(X_test, y_test)\n",
    "print(\"Accuracy for Testing score is: \", round(sTscore, 3))"
   ]
  },
  {
   "cell_type": "code",
   "execution_count": 13,
   "metadata": {},
   "outputs": [
    {
     "name": "stdout",
     "output_type": "stream",
     "text": [
      "Confusion Matrix for Linear SVM is \n",
      "[[10117  3667]\n",
      " [ 5848  5810]]\n"
     ]
    }
   ],
   "source": [
    "#Prediction vs Actual Values for Support Vector Machines\n",
    "sconfusionMatrix = confusion_matrix(y_test,sYpredict)\n",
    "print(\"Confusion Matrix for Linear SVM is \")\n",
    "print(sconfusionMatrix)"
   ]
  },
  {
   "cell_type": "code",
   "execution_count": 14,
   "metadata": {},
   "outputs": [
    {
     "name": "stdout",
     "output_type": "stream",
     "text": [
      "Classification Report for Linear SVM is below\n",
      "              precision    recall  f1-score   support\n",
      "\n",
      "           0       0.63      0.73      0.68     13784\n",
      "           1       0.61      0.50      0.55     11658\n",
      "\n",
      "    accuracy                           0.63     25442\n",
      "   macro avg       0.62      0.62      0.61     25442\n",
      "weighted avg       0.62      0.63      0.62     25442\n",
      "\n"
     ]
    }
   ],
   "source": [
    "#Classification Report for Support Vector Machines\n",
    "sclassification = classification_report(y_test, sYpredict)\n",
    "print(\"Classification Report for Linear SVM is below\")\n",
    "print(sclassification)"
   ]
  },
  {
   "cell_type": "code",
   "execution_count": 15,
   "metadata": {},
   "outputs": [
    {
     "data": {
      "image/png": "[encoded data removed]",
      "text/plain": [
       "<Figure size 640x480 with 1 Axes>"
      ]
     },
     "metadata": {},
     "output_type": "display_data"
    }
   ],
   "source": [
    "mlModels = ['Logistic Regression', 'Random Forest', 'Linear SVM']\n",
    "testScores = [Tscore, rfTscore, sTscore]\n",
    "plt.bar(mlModels, testScores)\n",
    "plt.ylabel('Test Accuracy')\n",
    "plt.title('Model Comparison')\n",
    "plt.show()"
   ]
  }
 ],
 "metadata": {
  "kernelspec": {
   "display_name": "Python 3",
   "language": "python",
   "name": "python3"
  },
  "language_info": {
   "codemirror_mode": {
    "name": "ipython",
    "version": 3
   },
   "file_extension": ".py",
   "mimetype": "text/x-python",
   "name": "python",
   "nbconvert_exporter": "python",
   "pygments_lexer": "ipython3",
   "version": "3.13.0"
  }
 },
 "nbformat": 4,
 "nbformat_minor": 2
}
